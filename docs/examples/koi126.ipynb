{
 "cells": [
  {
   "cell_type": "markdown",
   "metadata": {},
   "source": [
    "[IPython Notebook](koi126.ipynb) |  [Python Script](koi126.py)"
   ]
  },
  {
   "cell_type": "markdown",
   "metadata": {},
   "source": [
    "KOI-126\n",
    "============================\n",
    "\n",
    "**NOTE: triples are not supported yet - and this clearly shows why**\n",
    "\n",
    "Setup\n",
    "-----------------------------"
   ]
  },
  {
   "cell_type": "markdown",
   "metadata": {
    "collapsed": true
   },
   "source": [
    "As always, let's do imports and initialize a logger and a new bundle.  See [Building a System](../tutorials/building_a_system.html) for more details."
   ]
  },
  {
   "cell_type": "code",
   "execution_count": null,
   "metadata": {
    "collapsed": true
   },
   "outputs": [],
   "source": [
    "from IPython.display import Image"
   ]
  },
  {
   "cell_type": "code",
   "execution_count": null,
   "metadata": {
    "collapsed": true
   },
   "outputs": [],
   "source": [
    "%matplotlib inline"
   ]
  },
  {
   "cell_type": "code",
   "execution_count": null,
   "metadata": {
    "collapsed": false
   },
   "outputs": [],
   "source": [
    "import phoebe\n",
    "from phoebe import u # units\n",
    "import numpy as np\n",
    "import matplotlib.pyplot as plt\n",
    "\n",
    "logger = phoebe.logger()\n",
    "\n",
    "b = phoebe.default_triple(inner_as_primary=False, starC='starA', starA='starB', starB='starC')"
   ]
  },
  {
   "cell_type": "markdown",
   "metadata": {},
   "source": [
    "We override the default labels to try to mimic the (A, (B, C)) notation used within [Carter et al 2011](http://adsabs.harvard.edu/abs/2011Sci...331..562C)."
   ]
  },
  {
   "cell_type": "code",
   "execution_count": null,
   "metadata": {
    "collapsed": false
   },
   "outputs": [],
   "source": [
    "print b.hierarchy"
   ]
  },
  {
   "cell_type": "markdown",
   "metadata": {},
   "source": [
    "System Parameters\n",
    "---------------------------\n",
    "\n",
    "Now we build the system to match all the published parameters found in Table 1 of [Carter et al 2011](http://adsabs.harvard.edu/abs/2011Sci...331..562C) (shown below)."
   ]
  },
  {
   "cell_type": "code",
   "execution_count": null,
   "metadata": {
    "collapsed": false
   },
   "outputs": [],
   "source": [
    "Image(filename='koi126_carter+2011table1.png')"
   ]
  },
  {
   "cell_type": "markdown",
   "metadata": {},
   "source": [
    "In order to provide mean anomaly, we need to flip a few constraints.  For more information see the [constraint tutorial](../tutorials/constraints)"
   ]
  },
  {
   "cell_type": "code",
   "execution_count": null,
   "metadata": {
    "collapsed": false
   },
   "outputs": [],
   "source": [
    "b.flip_constraint('t0_perpass@inner', solve_for='t0_supconj')\n",
    "b.flip_constraint('mean_anom@inner', solve_for='t0_perpass')"
   ]
  },
  {
   "cell_type": "code",
   "execution_count": null,
   "metadata": {
    "collapsed": false
   },
   "outputs": [],
   "source": [
    "b.flip_constraint('t0_perpass@outer', solve_for='t0_supconj')\n",
    "b.flip_constraint('mean_anom@outer', solve_for='t0_perpass')"
   ]
  },
  {
   "cell_type": "code",
   "execution_count": null,
   "metadata": {
    "collapsed": false
   },
   "outputs": [],
   "source": [
    "b.set_value('dict_filter@setting', {'context': 'component'})"
   ]
  },
  {
   "cell_type": "code",
   "execution_count": null,
   "metadata": {
    "collapsed": false
   },
   "outputs": [],
   "source": [
    "b['rpole@starA'] = 2.0254 * u.solRad\n",
    "b['rpole@starB'] = 0.2543 * u.solRad\n",
    "b['rpole@starC'] = 0.2318 * u.solRad"
   ]
  },
  {
   "cell_type": "markdown",
   "metadata": {},
   "source": [
    "Note: we cannot directly set sma@outer as it is a constrained parameter and is ambiguous with other provided parameters.  Instead we'll check it later to make sure that the constraint results in the same value that is provided in Table 1."
   ]
  },
  {
   "cell_type": "code",
   "execution_count": null,
   "metadata": {
    "collapsed": false
   },
   "outputs": [],
   "source": [
    "b['period@outer'] = 33.9214 * u.d\n",
    "# b['sma@outer'] = 0.2495 * u.AU # cannot set (constrained) - will check later\n",
    "b['ecc@outer'] = 0.3043\n",
    "b['per0@outer'] = 52.88 * u.deg\n",
    "\n",
    "#mean_longitude = 19.87 * u.deg\n",
    "#per0 = 52.88 * u.deg\n",
    "#long_an = 0.0 * u.deg\n",
    "#b['mean_anom@outer'] = mean_longitude - per0 - long_an\n",
    "\n",
    "b['mean_anom@outer'] = 19.87 * u.deg\n",
    "\n",
    "b['incl@outer'] = 92.1 * u.deg\n",
    "b['long_an@outer'] = 0.0 * u.deg"
   ]
  },
  {
   "cell_type": "code",
   "execution_count": null,
   "metadata": {
    "collapsed": false
   },
   "outputs": [],
   "source": [
    "b['period@inner'] = 1.76713 * u.d\n",
    "b['sma@inner'] = 0.021986 * u.AU\n",
    "b['ecc@inner'] = 0.02234\n",
    "b['per0@inner'] = 89.52 * u.deg\n",
    "\n",
    "#mean_longitude = 355.66 * u.deg\n",
    "#per0 = 89.52 * u.deg\n",
    "#long_an = 8.012 * u.deg\n",
    "#b['mean_anom@outer'] = mean_longitude - per0 - long_an\n",
    "\n",
    "b['mean_anom@outer'] = 355.66 * u.deg\n",
    "\n",
    "b['incl@inner'] = 96.907 * u.deg\n",
    "b['long_an@inner'] = 8.012 * u.deg"
   ]
  },
  {
   "cell_type": "code",
   "execution_count": null,
   "metadata": {
    "collapsed": false
   },
   "outputs": [],
   "source": [
    "b['teff@starA'] = 5875 * u.K\n",
    "b['abun@starA'] = 0.15\n",
    "#b['period@starA'] = # vsini = 4.6"
   ]
  },
  {
   "cell_type": "markdown",
   "metadata": {},
   "source": [
    "The paper only provides flux-ratios, which we'll set later.  But let's provide reasonable effective temperatures for starB and star C based on the provided masses."
   ]
  },
  {
   "cell_type": "code",
   "execution_count": null,
   "metadata": {
    "collapsed": false
   },
   "outputs": [],
   "source": [
    "b['teff@starB'] = 3000 * u.K\n",
    "b['teff@starC'] = 3000 * u.K"
   ]
  },
  {
   "cell_type": "markdown",
   "metadata": {},
   "source": [
    "PHOEBE doesn't (yet) allow you to flip all constraint in a triple so that you can provide all masses.  But we can obtain the same result by setting the appropriate mass ratios and allowing Kepler's third laws to compute the input masses."
   ]
  },
  {
   "cell_type": "code",
   "execution_count": null,
   "metadata": {
    "collapsed": false
   },
   "outputs": [],
   "source": [
    "massA = 1.347 * u.solMass\n",
    "massB = 0.2413 * u.solMass\n",
    "massC = 0.2127 * u.solMass\n",
    "b['q@inner'] = massC/massB\n",
    "b['q@outer'] = (massB+massC)/massA"
   ]
  },
  {
   "cell_type": "code",
   "execution_count": null,
   "metadata": {
    "collapsed": false
   },
   "outputs": [],
   "source": [
    "print \"mass of starA: {} ({})\".format(b['mass@starA'].get_quantity(unit=u.solMass), massA)\n",
    "print \"mass of starB: {} ({})\".format(b['mass@starB'].get_quantity(unit=u.solMass), massB)\n",
    "print \"mass of starC: {} ({})\".format(b['mass@starC'].get_quantity(unit=u.solMass), massC)"
   ]
  },
  {
   "cell_type": "markdown",
   "metadata": {},
   "source": [
    "sma@outer was automatically determined by constraints to make sure the hierarchical orbit obeyed Kepler's third laws, but let's just check to make sure it matches the value in Table 1 (0.2495 AU)"
   ]
  },
  {
   "cell_type": "code",
   "execution_count": null,
   "metadata": {
    "collapsed": false
   },
   "outputs": [],
   "source": [
    "print \"outer sma: {} ({})\".format(b['sma@outer'].get_quantity(unit=u.AU), 0.2495 * u.AU)"
   ]
  },
  {
   "cell_type": "code",
   "execution_count": null,
   "metadata": {
    "collapsed": true
   },
   "outputs": [],
   "source": [
    "b.set_value('dict_filter@setting', {})"
   ]
  },
  {
   "cell_type": "code",
   "execution_count": null,
   "metadata": {
    "collapsed": false
   },
   "outputs": [],
   "source": [
    "b['t0@system'] = 2455170.5 - 2455000"
   ]
  },
  {
   "cell_type": "code",
   "execution_count": null,
   "metadata": {
    "collapsed": false
   },
   "outputs": [],
   "source": [
    "b['t0_supconj@outer@component']"
   ]
  },
  {
   "cell_type": "code",
   "execution_count": null,
   "metadata": {
    "collapsed": false
   },
   "outputs": [],
   "source": [
    "b['t0_perpass@outer@component']"
   ]
  },
  {
   "cell_type": "markdown",
   "metadata": {},
   "source": [
    "Adding Datasets\n",
    "----------------------"
   ]
  },
  {
   "cell_type": "markdown",
   "metadata": {},
   "source": [
    "We want to reproduce the light curves in Figure 1 of [Carter et al 2011](http://adsabs.harvard.edu/abs/2011Sci...331..562C).  \n",
    "\n",
    "The t0s used in each frame are listed in the figure caption, with the timespan ranging from t0-0.4 to t0+0.4 (for the top 8 panels).  We can reproduce these fairly easily by creating a separate light curve dataset for each frame.\n",
    "\n",
    "NOTE: we'll set our times as BJD-2455000."
   ]
  },
  {
   "cell_type": "code",
   "execution_count": null,
   "metadata": {
    "collapsed": true
   },
   "outputs": [],
   "source": [
    "t0s = np.array([102.815, 136.716, 170.465, 204.267, 238.207, 271.751,\n",
    "305.713, 339.496])\n",
    "t0s += 2.4 # TODO: TESTING REMOVE"
   ]
  },
  {
   "cell_type": "code",
   "execution_count": null,
   "metadata": {
    "collapsed": false
   },
   "outputs": [],
   "source": [
    "for t0 in t0s:\n",
    "    times = np.linspace(t0-0.4, t0+0.4, 101)\n",
    "    b.add_dataset('lc', times=times)\n",
    "    b.add_dataset('orb', times=times)\n",
    "    b.add_dataset('mesh', times=[t0])"
   ]
  },
  {
   "cell_type": "markdown",
   "metadata": {},
   "source": [
    "Since Table 1 provides relative fluxes, we'll decouple the passband luminosities and set them accordingly.  For more information on decoupling pblum, see the [pblum tutorial](../tutorials/pblum)."
   ]
  },
  {
   "cell_type": "code",
   "execution_count": null,
   "metadata": {
    "collapsed": false
   },
   "outputs": [],
   "source": [
    "b.set_value_all('pblum@starA', 1 * (4 * np.pi))"
   ]
  },
  {
   "cell_type": "code",
   "execution_count": null,
   "metadata": {
    "collapsed": false
   },
   "outputs": [],
   "source": [
    "b.set_value_all('pblum_ref@starB', 'self')\n",
    "b.set_value_all('pblum@starB', 3.26E-4 * (4 * np.pi))"
   ]
  },
  {
   "cell_type": "code",
   "execution_count": null,
   "metadata": {
    "collapsed": true
   },
   "outputs": [],
   "source": [
    "b.set_value_all('pblum_ref@starC', 'self')\n",
    "b.set_value_all('pblum@starC', 2.24E-4 * (4 * np.pi))"
   ]
  },
  {
   "cell_type": "markdown",
   "metadata": {},
   "source": [
    "Limb-darkening is discussed in the Online Material section of [Carter et al 2011](http://adsabs.harvard.edu/abs/2011Sci...331..562C): \"The limb-darkening coefficients for\n",
    "A were found to be u1 = 0.39±0.03 and u2 = 0.22±0.04. These values agree with theoretical\n",
    "expectations for stars with temperatures, gravities and metallicities similar to those found for\n",
    "KOI-126 A (0.3552 < u1 < 0.4009 and 0.2553 < u2 < 0.2869 for 5750K < Teff < 6000K,\n",
    "log gA ≡ 4.0 and 0.10 <[M/H]< 0.20, S10). We investigated various limb-darkened profiles\n",
    "for B and C according to the same model, however, any physically-valid choice of parameters\n",
    "gave similar fit values within the quoted uncertainties.\""
   ]
  },
  {
   "cell_type": "code",
   "execution_count": null,
   "metadata": {
    "collapsed": true
   },
   "outputs": [],
   "source": [
    "b.set_value_all('ld_func', 'quadratic')\n",
    "b.set_value_all('ld_coeffs@starA', [0.39, 0.22])\n",
    "b.set_value_all('ld_coeffs@starB', [0.39, 0.22]) # NOTE: not actually reported in paper, so assume same as A\n",
    "b.set_value_all('ld_coeffs@starC', [0.39, 0.22]) # NOTE: not actually reported in paper, so assume same as A"
   ]
  },
  {
   "cell_type": "markdown",
   "metadata": {},
   "source": [
    "Running Compute\n",
    "-----------------------"
   ]
  },
  {
   "cell_type": "code",
   "execution_count": null,
   "metadata": {
    "collapsed": true
   },
   "outputs": [],
   "source": [
    "b.set_value_all('atm', 'blackbody')"
   ]
  },
  {
   "cell_type": "code",
   "execution_count": null,
   "metadata": {
    "collapsed": false
   },
   "outputs": [],
   "source": [
    "b.add_compute('photodynam', compute='pdcompute')"
   ]
  },
  {
   "cell_type": "code",
   "execution_count": null,
   "metadata": {
    "collapsed": false
   },
   "outputs": [],
   "source": [
    "b.run_compute('pdcompute', model='pd')"
   ]
  },
  {
   "cell_type": "code",
   "execution_count": null,
   "metadata": {
    "collapsed": false
   },
   "outputs": [],
   "source": [
    "b.add_compute('phoebe', compute='phcompute', ltte=True)"
   ]
  },
  {
   "cell_type": "code",
   "execution_count": null,
   "metadata": {
    "collapsed": false
   },
   "outputs": [],
   "source": [
    "b.run_compute('phcompute', dynamics_method='keplerian', distortion_method='roche', model='ph_kepl_roche')"
   ]
  },
  {
   "cell_type": "code",
   "execution_count": null,
   "metadata": {
    "collapsed": true
   },
   "outputs": [],
   "source": [
    "#b.run_compute('phcompute', dynamics_method='nbody', distortion_method='rotstar', model='ph_dynam_rotstar')"
   ]
  },
  {
   "cell_type": "code",
   "execution_count": null,
   "metadata": {
    "collapsed": true
   },
   "outputs": [],
   "source": [
    "#b.run_compute('phcompute', dynamics_method='nbody', distortion_method='roche', model='ph_dynam_roche')"
   ]
  },
  {
   "cell_type": "code",
   "execution_count": null,
   "metadata": {
    "collapsed": false
   },
   "outputs": [],
   "source": [
    "b.run_compute('phcompute', dynamics_method='bs', distortion_method='rotstar', model='ph_bs_rotstar')"
   ]
  },
  {
   "cell_type": "code",
   "execution_count": null,
   "metadata": {
    "collapsed": false
   },
   "outputs": [],
   "source": [
    "#b.run_compute('phcompute', dynamics_method='bs', distortion_method='roche', model='ph_bs_roche')"
   ]
  },
  {
   "cell_type": "markdown",
   "metadata": {},
   "source": [
    "Plotting\n",
    "-------------------------"
   ]
  },
  {
   "cell_type": "markdown",
   "metadata": {},
   "source": [
    "We'll compare our models to [Carter et al 2011](http://adsabs.harvard.edu/abs/2011Sci...331..562C) Figure 1 (shown below)."
   ]
  },
  {
   "cell_type": "code",
   "execution_count": null,
   "metadata": {
    "collapsed": true
   },
   "outputs": [],
   "source": [
    "def draw_lc_fig(model):\n",
    "    fig, axs = plt.subplots(4,2, figsize=(9,10))\n",
    "    lc_datasets = ['lc{:02d}'.format(i+1) for i in range(8)]\n",
    "    for ax, ds in zip(axs.flatten(), lc_datasets):\n",
    "        axs, artists = b.plot(dataset=ds, model=model, ax=ax)"
   ]
  },
  {
   "cell_type": "code",
   "execution_count": null,
   "metadata": {
    "collapsed": false
   },
   "outputs": [],
   "source": [
    "def draw_mesh_orb_fig(model, draw_mesh=True):\n",
    "    fig, axs = plt.subplots(4,2, figsize=(8,10))\n",
    "    mesh_datasets = ['mesh{:02d}'.format(i+1) for i in range(8)]\n",
    "    orb_datasets = ['orb{:02d}'.format(i+1) for i in range(8)]\n",
    "    for ax, ds_mesh, ds_orb in zip(axs.flatten(), mesh_datasets, orb_datasets):\n",
    "        if draw_mesh:\n",
    "            axs, artists = b.plot(dataset=ds_mesh, model=model, ax=ax, y='ys')\n",
    "        axs, artists = b.plot(dataset=ds_orb, model=model, ax=ax, y='ys')\n"
   ]
  },
  {
   "cell_type": "code",
   "execution_count": null,
   "metadata": {
    "collapsed": false
   },
   "outputs": [],
   "source": [
    "Image(filename='koi126_carter+2011fig1.png')"
   ]
  },
  {
   "cell_type": "markdown",
   "metadata": {},
   "source": [
    "### Photodynam (code used in paper)"
   ]
  },
  {
   "cell_type": "code",
   "execution_count": null,
   "metadata": {
    "collapsed": false
   },
   "outputs": [],
   "source": [
    "draw_lc_fig(model='pd')"
   ]
  },
  {
   "cell_type": "code",
   "execution_count": null,
   "metadata": {
    "collapsed": false
   },
   "outputs": [],
   "source": [
    "draw_mesh_orb_fig(model='pd', draw_mesh=False)"
   ]
  },
  {
   "cell_type": "markdown",
   "metadata": {},
   "source": [
    "### PHOEBE with keplerian & roche\n",
    "\n",
    "As mentioned in the paper, a strictly Keplerian model fails to model the full light curve."
   ]
  },
  {
   "cell_type": "code",
   "execution_count": null,
   "metadata": {
    "collapsed": false
   },
   "outputs": [],
   "source": [
    "draw_lc_fig(model='ph_kepl_roche')"
   ]
  },
  {
   "cell_type": "code",
   "execution_count": null,
   "metadata": {
    "collapsed": false
   },
   "outputs": [],
   "source": [
    "draw_mesh_orb_fig(model='ph_kepl_roche')"
   ]
  },
  {
   "cell_type": "markdown",
   "metadata": {},
   "source": [
    "### PHOEBE with nbody & rotstar"
   ]
  },
  {
   "cell_type": "code",
   "execution_count": null,
   "metadata": {
    "collapsed": false
   },
   "outputs": [],
   "source": [
    "#draw_lc_fig(model='ph_dynam_rotstar')"
   ]
  },
  {
   "cell_type": "code",
   "execution_count": null,
   "metadata": {
    "collapsed": false
   },
   "outputs": [],
   "source": [
    "#draw_mesh_orb_fig(model='ph_dynam_rotstar', draw_mesh=False)"
   ]
  },
  {
   "cell_type": "code",
   "execution_count": null,
   "metadata": {
    "collapsed": false
   },
   "outputs": [],
   "source": [
    "draw_lc_fig(model='ph_bs_rotstar')"
   ]
  },
  {
   "cell_type": "code",
   "execution_count": null,
   "metadata": {
    "collapsed": false
   },
   "outputs": [],
   "source": [
    "draw_mesh_orb_fig(model='ph_bs_rotstar')"
   ]
  },
  {
   "cell_type": "markdown",
   "metadata": {},
   "source": [
    "### PHOEBE with nbody & roche"
   ]
  },
  {
   "cell_type": "code",
   "execution_count": null,
   "metadata": {
    "collapsed": true
   },
   "outputs": [],
   "source": [
    "#draw_lc_fig(model='ph_dynam_roche')"
   ]
  },
  {
   "cell_type": "code",
   "execution_count": null,
   "metadata": {
    "collapsed": true
   },
   "outputs": [],
   "source": [
    "#draw_mesh_fig(model='ph_dynam_roche')"
   ]
  }
 ],
 "metadata": {
  "kernelspec": {
   "display_name": "Python 2",
   "language": "python",
   "name": "python2"
  },
  "language_info": {
   "codemirror_mode": {
    "name": "ipython",
    "version": 2
   },
   "file_extension": ".py",
   "mimetype": "text/x-python",
   "name": "python",
   "nbconvert_exporter": "python",
   "pygments_lexer": "ipython2",
   "version": "2.7.12"
  }
 },
 "nbformat": 4,
 "nbformat_minor": 0
}
